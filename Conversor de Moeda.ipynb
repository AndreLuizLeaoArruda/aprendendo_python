{
  "nbformat": 4,
  "nbformat_minor": 0,
  "metadata": {
    "colab": {
      "provenance": []
    },
    "kernelspec": {
      "name": "python3",
      "display_name": "Python 3"
    },
    "language_info": {
      "name": "python"
    }
  },
  "cells": [
    {
      "cell_type": "code",
      "execution_count": 1,
      "metadata": {
        "colab": {
          "base_uri": "https://localhost:8080/"
        },
        "id": "TQ858Gp_IkUL",
        "outputId": "502d3f29-12e4-48ab-8927-6fae9a79b75e"
      },
      "outputs": [
        {
          "output_type": "stream",
          "name": "stdout",
          "text": [
            "\u001b[2K     \u001b[90m━━━━━━━━━━━━━━━━━━━━━━━━━━━━━━━━━━━━━━━━\u001b[0m \u001b[32m163.1/163.1 kB\u001b[0m \u001b[31m830.4 kB/s\u001b[0m eta \u001b[36m0:00:00\u001b[0m\n",
            "\u001b[2K     \u001b[90m━━━━━━━━━━━━━━━━━━━━━━━━━━━━━━━━━━━━━━━━\u001b[0m \u001b[32m717.3/717.3 kB\u001b[0m \u001b[31m14.3 MB/s\u001b[0m eta \u001b[36m0:00:00\u001b[0m\n",
            "\u001b[?25h"
          ]
        }
      ],
      "source": [
        "!pip install -q -U google-generativeai"
      ]
    },
    {
      "cell_type": "markdown",
      "source": [
        "No comando acima, vamos instalar, ou atualizar, o pacote 'google-generativeai' para Python."
      ],
      "metadata": {
        "id": "_O9qAihoJipI"
      }
    },
    {
      "cell_type": "code",
      "source": [
        "import google.generativeai as genai\n",
        "from google.colab import userdata\n",
        "api_key = userdata.get('CHAVE_SECRETA')\n",
        "genai.configure(api_key=api_key)"
      ],
      "metadata": {
        "id": "AlNqj8LqJj0I"
      },
      "execution_count": 9,
      "outputs": []
    },
    {
      "cell_type": "code",
      "source": [
        "print(\"\\033[1mSeja bem-vindo(a) ao Conversor de Moedas!\\033[0m\\n\")\n",
        "nome=\"\"\n",
        "\n",
        "while (nome == \"\"):\n",
        "  nome = input(\"\\nPor favor, como você deseja ser chamado(a)? \")\n",
        "  print (f\"\\nComo vai \\033[1m{nome}\\033[0m!\\n\")\n",
        "\n",
        "moeda1 = input(\"Qual a moeda de origem? \")\n",
        "moeda2 = input(\"Qual a moeda de destino? \")\n",
        "valor = input(f\"Qual o valor deseja converter (em {moeda1}) \")\n",
        "\n",
        "texto = (f\"Quero converter {valor} {moeda1} para {moeda2}, qual é o valor final?\")\n",
        "\n",
        "model = genai.GenerativeModel(model_name = 'gemini-1.0-pro')\n",
        "response = model.generate_content(texto)\n",
        "print(response.text)\n"
      ],
      "metadata": {
        "colab": {
          "base_uri": "https://localhost:8080/",
          "height": 277
        },
        "id": "Gr9SrNdOL1sl",
        "outputId": "b3d5c6f5-0279-4419-cb5d-0b99c28c1894"
      },
      "execution_count": 23,
      "outputs": [
        {
          "output_type": "stream",
          "name": "stdout",
          "text": [
            "\u001b[1mSeja bem-vindo(a) ao Conversor de Moedas!\u001b[0m\n",
            "\n",
            "\n",
            "Por favor, como você deseja ser chamado(a)? André\n",
            "\n",
            "Como vai \u001b[1mAndré\u001b[0m!\n",
            "\n",
            "Qual a moeda de origem? Dólar\n",
            "Qual a moeda de destino? Pesos argentinos\n",
            "Qual o valor deseja converter (em Dólar) 400\n",
            "A taxa de câmbio atual (em 2023) é de aproximadamente 1 Dólar = 196,90 Pesos argentinos.\n",
            "\n",
            "Portanto, o valor convertido seria:\n",
            "\n",
            "400 Dólares x 196,90 Pesos argentinos/Dólar = **78.760 Pesos argentinos**\n"
          ]
        }
      ]
    }
  ]
}