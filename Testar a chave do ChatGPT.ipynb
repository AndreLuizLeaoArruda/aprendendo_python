{
  "nbformat": 4,
  "nbformat_minor": 0,
  "metadata": {
    "colab": {
      "provenance": [],
      "authorship_tag": "ABX9TyNvtu/AvoNRGHqS2Jpz8dHh",
      "include_colab_link": true
    },
    "kernelspec": {
      "name": "python3",
      "display_name": "Python 3"
    },
    "language_info": {
      "name": "python"
    }
  },
  "cells": [
    {
      "cell_type": "markdown",
      "metadata": {
        "id": "view-in-github",
        "colab_type": "text"
      },
      "source": [
        "<a href=\"https://colab.research.google.com/github/AndreLuizLeaoArruda/aprendendo_python/blob/main/Testar%20a%20chave%20do%20ChatGPT.ipynb\" target=\"_parent\"><img src=\"https://colab.research.google.com/assets/colab-badge.svg\" alt=\"Open In Colab\"/></a>"
      ]
    },
    {
      "cell_type": "code",
      "source": [
        "!pip install requests\n",
        "\n",
        "import os\n",
        "import requests\n",
        "\n",
        "# Substitua 'sua-chave-de-api' pela sua chave de API real\n",
        "from google.colab import userdata\n",
        "\n",
        "api_key = userdata.get('CHAVE_CHATGPT')\n",
        "headers = {\n",
        "    'Authorization': f'Bearer {api_key}',\n",
        "}\n",
        "\n",
        "try:\n",
        "    # Tente fazer uma solicitação simples à API\n",
        "    response = requests.get('https://api.openai.com/v1/models', headers=headers)\n",
        "    if response.status_code == 200:\n",
        "        print(\"Chave de API é válida!\")\n",
        "    else:\n",
        "        print(\"Chave de API inválida.\")\n",
        "        print(\"Status Code:\", response.status_code)\n",
        "        print(\"Response:\", response.json())\n",
        "except Exception as e:\n",
        "    print(f\"Um erro ocorreu: {e}\")\n"
      ],
      "metadata": {
        "colab": {
          "base_uri": "https://localhost:8080/"
        },
        "id": "U_gu2w-m-FAD",
        "outputId": "14ea5c49-9d06-4534-84bb-e9be5b81caf9"
      },
      "execution_count": 22,
      "outputs": [
        {
          "output_type": "stream",
          "name": "stdout",
          "text": [
            "Requirement already satisfied: requests in /usr/local/lib/python3.10/dist-packages (2.31.0)\n",
            "Requirement already satisfied: charset-normalizer<4,>=2 in /usr/local/lib/python3.10/dist-packages (from requests) (3.3.2)\n",
            "Requirement already satisfied: idna<4,>=2.5 in /usr/local/lib/python3.10/dist-packages (from requests) (3.7)\n",
            "Requirement already satisfied: urllib3<3,>=1.21.1 in /usr/local/lib/python3.10/dist-packages (from requests) (2.0.7)\n",
            "Requirement already satisfied: certifi>=2017.4.17 in /usr/local/lib/python3.10/dist-packages (from requests) (2024.6.2)\n",
            "Chave de API é válida!\n"
          ]
        }
      ]
    }
  ]
}