{
  "nbformat": 4,
  "nbformat_minor": 0,
  "metadata": {
    "colab": {
      "provenance": [],
      "authorship_tag": "ABX9TyPep8eJq0KZw14Zb2zS8JmI",
      "include_colab_link": true
    },
    "kernelspec": {
      "name": "python3",
      "display_name": "Python 3"
    },
    "language_info": {
      "name": "python"
    }
  },
  "cells": [
    {
      "cell_type": "markdown",
      "metadata": {
        "id": "view-in-github",
        "colab_type": "text"
      },
      "source": [
        "<a href=\"https://colab.research.google.com/github/AndreLuizLeaoArruda/senai-git/blob/master/Untitled0.ipynb\" target=\"_parent\"><img src=\"https://colab.research.google.com/assets/colab-badge.svg\" alt=\"Open In Colab\"/></a>"
      ]
    },
    {
      "cell_type": "code",
      "execution_count": 2,
      "metadata": {
        "colab": {
          "base_uri": "https://localhost:8080/"
        },
        "id": "BX3CQYlstacn",
        "outputId": "9dec249c-efaf-49ff-920b-aae5e28cc8df"
      },
      "outputs": [
        {
          "output_type": "stream",
          "name": "stdout",
          "text": [
            "Olá Mundo!!\n"
          ]
        }
      ],
      "source": [
        "print (\"Olá Mundo!!\")\n"
      ]
    },
    {
      "cell_type": "code",
      "source": [
        "import requests\n",
        "import random\n",
        "url = \"https://raw.githubusercontent.com/guilhermeonrails/api-imersao-ia/main/words.json\"\n",
        "resposta = requests.get(url)\n",
        "data = resposta.json()\n",
        "# len(data) comando usado para informar a quantidade de linhas.\n",
        "# data[-43] comando usado para informar determinada linha.\n",
        "\n",
        "valor_secreto = random.choice(data)\n",
        "palavra_secreta = valor_secreto['palavra']\n",
        "dica = valor_secreto['dica']\n",
        "print(f'\\033[1mDica1:\\033[0m A palavra secreta contém {len(palavra_secreta)} letras.')\n",
        "print(f'\\033[1mDica2:\\033[0m {dica}')\n",
        "chute = input(f' Digite no campo ao lado sua resposta: ')\n",
        "if chute == palavra_secreta:\n",
        "  print('Acertou')\n",
        "else:\n",
        "  print(f'Errou. A palavra secreta era: {palavra_secreta}')"
      ],
      "metadata": {
        "colab": {
          "base_uri": "https://localhost:8080/"
        },
        "id": "T1EomeQnt4Lw",
        "outputId": "e79d194e-22a4-461d-a72d-aa7923343d94"
      },
      "execution_count": null,
      "outputs": [
        {
          "output_type": "stream",
          "name": "stdout",
          "text": [
            "\u001b[1mDica1:\u001b[0m A palavra secreta contém 7 letras.\n",
            "\u001b[1mDica2:\u001b[0m construir aplicativos web spa (single page application) complexos.\n"
          ]
        }
      ]
    }
  ]
}